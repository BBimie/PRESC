{
 "cells": [
  {
   "cell_type": "markdown",
   "metadata": {},
   "source": [
    "# Problem Statement\n",
    "\n",
    "Misclassifications can reveal a lot about the boundaries of performance of a classifier. Develop a visualization that helps dig into misclassified datapoints in the test set. A simple approach for a binary classifier would be to plot a histogram of the predicted class probabilities across the misclassified test samples in each class.\n",
<<<<<<< HEAD
    "\n",
    "\n",
    "\n",
    "### 1. Import Libraries\n",
    "\n",
    "The misclassification_function module contains all the functions that would be used in this notebook, I will explain how each function works as I use them."
=======
    "\n"
>>>>>>> parent of 5f87a01... moved into misclassification_visualization folder
   ]
  },
  {
   "cell_type": "code",
   "execution_count": 1,
   "metadata": {},
   "outputs": [],
   "source": [
    "import pandas as pd\n",
<<<<<<< HEAD
=======
    "import matplotlib.pyplot as plt\n",
    "import numpy as np\n",
    "import seaborn as sns\n",
>>>>>>> parent of 5f87a01... moved into misclassification_visualization folder
    "import os"
   ]
  },
  {
   "cell_type": "code",
   "execution_count": 2,
   "metadata": {},
   "outputs": [],
   "source": [
    "from sklearn.model_selection import StratifiedShuffleSplit\n",
    "from sklearn.ensemble import RandomForestClassifier\n",
    "\n",
    "from sklearn.model_selection import cross_val_score, cross_val_predict\n",
    "from sklearn.metrics import confusion_matrix, accuracy_score"
   ]
  },
  {
   "cell_type": "code",
   "execution_count": 3,
   "metadata": {},
   "outputs": [],
   "source": [
<<<<<<< HEAD
    "import misclassification_function"
   ]
  },
  {
   "cell_type": "code",
   "execution_count": 4,
   "metadata": {},
   "outputs": [],
   "source": [
=======
>>>>>>> parent of 5f87a01... moved into misclassification_visualization folder
    "clf = RandomForestClassifier()"
   ]
  },
  {
<<<<<<< HEAD
   "cell_type": "markdown",
   "metadata": {},
   "source": [
    "### 2.  Read in the dataset"
   ]
  },
  {
   "cell_type": "code",
   "execution_count": 2,
=======
   "cell_type": "code",
   "execution_count": 4,
>>>>>>> parent of 5f87a01... moved into misclassification_visualization folder
   "metadata": {},
   "outputs": [],
   "source": [
    "current_dir = os.path.abspath(os.getcwd())\n",
    "\n",
<<<<<<< HEAD
    "dataset_path = os.path.join(current_dir, '..', '..', 'datasets', 'winequality.csv')"
=======
    "dataset_path = os.path.join(current_dir, '..', 'datasets', 'winequality.csv')"
>>>>>>> parent of 5f87a01... moved into misclassification_visualization folder
   ]
  },
  {
   "cell_type": "code",
<<<<<<< HEAD
   "execution_count": 3,
=======
   "execution_count": 5,
>>>>>>> parent of 5f87a01... moved into misclassification_visualization folder
   "metadata": {},
   "outputs": [
    {
     "data": {
      "text/html": [
       "<div>\n",
       "<style scoped>\n",
       "    .dataframe tbody tr th:only-of-type {\n",
       "        vertical-align: middle;\n",
       "    }\n",
       "\n",
       "    .dataframe tbody tr th {\n",
       "        vertical-align: top;\n",
       "    }\n",
       "\n",
       "    .dataframe thead th {\n",
       "        text-align: right;\n",
       "    }\n",
       "</style>\n",
       "<table border=\"1\" class=\"dataframe\">\n",
       "  <thead>\n",
       "    <tr style=\"text-align: right;\">\n",
       "      <th></th>\n",
       "      <th>fixed acidity</th>\n",
       "      <th>volatile acidity</th>\n",
       "      <th>citric acid</th>\n",
       "      <th>residual sugar</th>\n",
       "      <th>chlorides</th>\n",
       "      <th>free sulfur dioxide</th>\n",
       "      <th>total sulfur dioxide</th>\n",
       "      <th>density</th>\n",
       "      <th>pH</th>\n",
       "      <th>sulphates</th>\n",
       "      <th>alcohol</th>\n",
       "      <th>quality</th>\n",
       "      <th>recommend</th>\n",
       "    </tr>\n",
       "  </thead>\n",
       "  <tbody>\n",
       "    <tr>\n",
       "      <th>0</th>\n",
       "      <td>7.0</td>\n",
       "      <td>0.27</td>\n",
       "      <td>0.36</td>\n",
       "      <td>20.7</td>\n",
       "      <td>0.045</td>\n",
       "      <td>45.0</td>\n",
       "      <td>170.0</td>\n",
       "      <td>1.0010</td>\n",
       "      <td>3.00</td>\n",
       "      <td>0.45</td>\n",
       "      <td>8.8</td>\n",
       "      <td>6</td>\n",
       "      <td>False</td>\n",
       "    </tr>\n",
       "    <tr>\n",
       "      <th>1</th>\n",
       "      <td>6.3</td>\n",
       "      <td>0.30</td>\n",
       "      <td>0.34</td>\n",
       "      <td>1.6</td>\n",
       "      <td>0.049</td>\n",
       "      <td>14.0</td>\n",
       "      <td>132.0</td>\n",
       "      <td>0.9940</td>\n",
       "      <td>3.30</td>\n",
       "      <td>0.49</td>\n",
       "      <td>9.5</td>\n",
       "      <td>6</td>\n",
       "      <td>False</td>\n",
       "    </tr>\n",
       "    <tr>\n",
       "      <th>2</th>\n",
       "      <td>8.1</td>\n",
       "      <td>0.28</td>\n",
       "      <td>0.40</td>\n",
       "      <td>6.9</td>\n",
       "      <td>0.050</td>\n",
       "      <td>30.0</td>\n",
       "      <td>97.0</td>\n",
       "      <td>0.9951</td>\n",
       "      <td>3.26</td>\n",
       "      <td>0.44</td>\n",
       "      <td>10.1</td>\n",
       "      <td>6</td>\n",
       "      <td>False</td>\n",
       "    </tr>\n",
       "    <tr>\n",
       "      <th>3</th>\n",
       "      <td>7.2</td>\n",
       "      <td>0.23</td>\n",
       "      <td>0.32</td>\n",
       "      <td>8.5</td>\n",
       "      <td>0.058</td>\n",
       "      <td>47.0</td>\n",
       "      <td>186.0</td>\n",
       "      <td>0.9956</td>\n",
       "      <td>3.19</td>\n",
       "      <td>0.40</td>\n",
       "      <td>9.9</td>\n",
       "      <td>6</td>\n",
       "      <td>False</td>\n",
       "    </tr>\n",
       "    <tr>\n",
       "      <th>4</th>\n",
       "      <td>7.2</td>\n",
       "      <td>0.23</td>\n",
       "      <td>0.32</td>\n",
       "      <td>8.5</td>\n",
       "      <td>0.058</td>\n",
       "      <td>47.0</td>\n",
       "      <td>186.0</td>\n",
       "      <td>0.9956</td>\n",
       "      <td>3.19</td>\n",
       "      <td>0.40</td>\n",
       "      <td>9.9</td>\n",
       "      <td>6</td>\n",
       "      <td>False</td>\n",
       "    </tr>\n",
       "    <tr>\n",
       "      <th>5</th>\n",
       "      <td>8.1</td>\n",
       "      <td>0.28</td>\n",
       "      <td>0.40</td>\n",
       "      <td>6.9</td>\n",
       "      <td>0.050</td>\n",
       "      <td>30.0</td>\n",
       "      <td>97.0</td>\n",
       "      <td>0.9951</td>\n",
       "      <td>3.26</td>\n",
       "      <td>0.44</td>\n",
       "      <td>10.1</td>\n",
       "      <td>6</td>\n",
       "      <td>False</td>\n",
       "    </tr>\n",
       "    <tr>\n",
       "      <th>6</th>\n",
       "      <td>6.2</td>\n",
       "      <td>0.32</td>\n",
       "      <td>0.16</td>\n",
       "      <td>7.0</td>\n",
       "      <td>0.045</td>\n",
       "      <td>30.0</td>\n",
       "      <td>136.0</td>\n",
       "      <td>0.9949</td>\n",
       "      <td>3.18</td>\n",
       "      <td>0.47</td>\n",
       "      <td>9.6</td>\n",
       "      <td>6</td>\n",
       "      <td>False</td>\n",
       "    </tr>\n",
       "    <tr>\n",
       "      <th>7</th>\n",
       "      <td>7.0</td>\n",
       "      <td>0.27</td>\n",
       "      <td>0.36</td>\n",
       "      <td>20.7</td>\n",
       "      <td>0.045</td>\n",
       "      <td>45.0</td>\n",
       "      <td>170.0</td>\n",
       "      <td>1.0010</td>\n",
       "      <td>3.00</td>\n",
       "      <td>0.45</td>\n",
       "      <td>8.8</td>\n",
       "      <td>6</td>\n",
       "      <td>False</td>\n",
       "    </tr>\n",
       "    <tr>\n",
       "      <th>8</th>\n",
       "      <td>6.3</td>\n",
       "      <td>0.30</td>\n",
       "      <td>0.34</td>\n",
       "      <td>1.6</td>\n",
       "      <td>0.049</td>\n",
       "      <td>14.0</td>\n",
       "      <td>132.0</td>\n",
       "      <td>0.9940</td>\n",
       "      <td>3.30</td>\n",
       "      <td>0.49</td>\n",
       "      <td>9.5</td>\n",
       "      <td>6</td>\n",
       "      <td>False</td>\n",
       "    </tr>\n",
       "    <tr>\n",
       "      <th>9</th>\n",
       "      <td>8.1</td>\n",
       "      <td>0.22</td>\n",
       "      <td>0.43</td>\n",
       "      <td>1.5</td>\n",
       "      <td>0.044</td>\n",
       "      <td>28.0</td>\n",
       "      <td>129.0</td>\n",
       "      <td>0.9938</td>\n",
       "      <td>3.22</td>\n",
       "      <td>0.45</td>\n",
       "      <td>11.0</td>\n",
       "      <td>6</td>\n",
       "      <td>False</td>\n",
       "    </tr>\n",
       "  </tbody>\n",
       "</table>\n",
       "</div>"
      ],
      "text/plain": [
       "   fixed acidity  volatile acidity  citric acid  residual sugar  chlorides  \\\n",
       "0            7.0              0.27         0.36            20.7      0.045   \n",
       "1            6.3              0.30         0.34             1.6      0.049   \n",
       "2            8.1              0.28         0.40             6.9      0.050   \n",
       "3            7.2              0.23         0.32             8.5      0.058   \n",
       "4            7.2              0.23         0.32             8.5      0.058   \n",
       "5            8.1              0.28         0.40             6.9      0.050   \n",
       "6            6.2              0.32         0.16             7.0      0.045   \n",
       "7            7.0              0.27         0.36            20.7      0.045   \n",
       "8            6.3              0.30         0.34             1.6      0.049   \n",
       "9            8.1              0.22         0.43             1.5      0.044   \n",
       "\n",
       "   free sulfur dioxide  total sulfur dioxide  density    pH  sulphates  \\\n",
       "0                 45.0                 170.0   1.0010  3.00       0.45   \n",
       "1                 14.0                 132.0   0.9940  3.30       0.49   \n",
       "2                 30.0                  97.0   0.9951  3.26       0.44   \n",
       "3                 47.0                 186.0   0.9956  3.19       0.40   \n",
       "4                 47.0                 186.0   0.9956  3.19       0.40   \n",
       "5                 30.0                  97.0   0.9951  3.26       0.44   \n",
       "6                 30.0                 136.0   0.9949  3.18       0.47   \n",
       "7                 45.0                 170.0   1.0010  3.00       0.45   \n",
       "8                 14.0                 132.0   0.9940  3.30       0.49   \n",
       "9                 28.0                 129.0   0.9938  3.22       0.45   \n",
       "\n",
       "   alcohol  quality  recommend  \n",
       "0      8.8        6      False  \n",
       "1      9.5        6      False  \n",
       "2     10.1        6      False  \n",
       "3      9.9        6      False  \n",
       "4      9.9        6      False  \n",
       "5     10.1        6      False  \n",
       "6      9.6        6      False  \n",
       "7      8.8        6      False  \n",
       "8      9.5        6      False  \n",
       "9     11.0        6      False  "
      ]
     },
<<<<<<< HEAD
     "execution_count": 3,
=======
     "execution_count": 5,
>>>>>>> parent of 5f87a01... moved into misclassification_visualization folder
     "metadata": {},
     "output_type": "execute_result"
    }
   ],
   "source": [
    "wine = pd.read_csv(dataset_path)\n",
    "wine.head(10)"
   ]
  },
  {
   "cell_type": "markdown",
   "metadata": {},
   "source": [
    "Recommend column was dropped from the dataframe because it is 100% dependent on the quality column and would therefore cause bias in prediction"
   ]
  },
  {
   "cell_type": "code",
<<<<<<< HEAD
   "execution_count": 7,
=======
   "execution_count": 6,
>>>>>>> parent of 5f87a01... moved into misclassification_visualization folder
   "metadata": {},
   "outputs": [],
   "source": [
    "wine_m = wine.drop(['recommend'], axis=1)"
   ]
  },
  {
<<<<<<< HEAD
   "cell_type": "markdown",
   "metadata": {},
   "source": [
    "### 3. Split data\n",
    "This is the very first function, it performs stratified shuffle split on the dataset and returns the x_train, y_train, x_test and y_test"
=======
   "cell_type": "code",
   "execution_count": 7,
   "metadata": {},
   "outputs": [],
   "source": [
    "split = StratifiedShuffleSplit(n_splits = 1, test_size=0.2, random_state=42)\n",
    "for train_index, test_index in split.split(wine_m, wine_m['quality']):\n",
    "    train = wine_m.loc[train_index]\n",
    "    test = wine_m.loc[test_index]\n",
    "        \n",
    "    x = train.drop(['quality'], axis=1)\n",
    "    y = train['quality']\n",
    "        \n",
    "    a = test.drop(['quality'], axis=1)\n",
    "    b = test['quality']"
>>>>>>> parent of 5f87a01... moved into misclassification_visualization folder
   ]
  },
  {
   "cell_type": "code",
   "execution_count": 8,
   "metadata": {},
<<<<<<< HEAD
   "outputs": [],
   "source": [
    "x_train, y_train, x_test, y_test = misclassification_function.split(wine_m, 'quality', 0.2)"
=======
   "outputs": [
    {
     "name": "stderr",
     "output_type": "stream",
     "text": [
      "C:\\ProgramData\\Anaconda3\\lib\\site-packages\\sklearn\\ensemble\\forest.py:245: FutureWarning: The default value of n_estimators will change from 10 in version 0.20 to 100 in 0.22.\n",
      "  \"10 in version 0.20 to 100 in 0.22.\", FutureWarning)\n"
     ]
    },
    {
     "data": {
      "text/plain": [
       "RandomForestClassifier(bootstrap=True, class_weight=None, criterion='gini',\n",
       "                       max_depth=None, max_features='auto', max_leaf_nodes=None,\n",
       "                       min_impurity_decrease=0.0, min_impurity_split=None,\n",
       "                       min_samples_leaf=1, min_samples_split=2,\n",
       "                       min_weight_fraction_leaf=0.0, n_estimators=10,\n",
       "                       n_jobs=None, oob_score=False, random_state=None,\n",
       "                       verbose=0, warm_start=False)"
      ]
     },
     "execution_count": 8,
     "metadata": {},
     "output_type": "execute_result"
    }
   ],
   "source": [
    "clf.fit(x, y)"
   ]
  },
  {
   "cell_type": "code",
   "execution_count": 9,
   "metadata": {},
   "outputs": [],
   "source": [
    "predictions = clf.predict(a)\n",
    "\n",
    "#probabilities\n",
    "probabilities = clf.predict_proba(a)"
   ]
  },
  {
   "cell_type": "code",
   "execution_count": 10,
   "metadata": {},
   "outputs": [],
   "source": [
    "test['predicted'] = predictions"
>>>>>>> parent of 5f87a01... moved into misclassification_visualization folder
   ]
  },
  {
   "cell_type": "markdown",
   "metadata": {},
   "source": [
<<<<<<< HEAD
    "### 4. Model fitting and testing\n",
    "Fit the random forest model and perform prediction the test set"
=======
    "- convert probabilities to a df and then join it with the test df so"
>>>>>>> parent of 5f87a01... moved into misclassification_visualization folder
   ]
  },
  {
   "cell_type": "code",
<<<<<<< HEAD
   "execution_count": 9,
   "metadata": {},
   "outputs": [
    {
     "name": "stderr",
     "output_type": "stream",
     "text": [
      "C:\\ProgramData\\Anaconda3\\lib\\site-packages\\sklearn\\ensemble\\forest.py:245: FutureWarning: The default value of n_estimators will change from 10 in version 0.20 to 100 in 0.22.\n",
      "  \"10 in version 0.20 to 100 in 0.22.\", FutureWarning)\n"
     ]
    }
   ],
   "source": [
    "prediction = misclassification_function.predict(x_train, y_train,  x_test)"
=======
   "execution_count": 11,
   "metadata": {},
   "outputs": [
    {
     "data": {
      "text/html": [
       "<div>\n",
       "<style scoped>\n",
       "    .dataframe tbody tr th:only-of-type {\n",
       "        vertical-align: middle;\n",
       "    }\n",
       "\n",
       "    .dataframe tbody tr th {\n",
       "        vertical-align: top;\n",
       "    }\n",
       "\n",
       "    .dataframe thead th {\n",
       "        text-align: right;\n",
       "    }\n",
       "</style>\n",
       "<table border=\"1\" class=\"dataframe\">\n",
       "  <thead>\n",
       "    <tr style=\"text-align: right;\">\n",
       "      <th></th>\n",
       "      <th>0</th>\n",
       "      <th>1</th>\n",
       "      <th>2</th>\n",
       "      <th>3</th>\n",
       "      <th>4</th>\n",
       "      <th>5</th>\n",
       "      <th>6</th>\n",
       "    </tr>\n",
       "  </thead>\n",
       "  <tbody>\n",
       "    <tr>\n",
       "      <th>0</th>\n",
       "      <td>0.0</td>\n",
       "      <td>0.0</td>\n",
       "      <td>0.6</td>\n",
       "      <td>0.4</td>\n",
       "      <td>0.0</td>\n",
       "      <td>0.0</td>\n",
       "      <td>0.0</td>\n",
       "    </tr>\n",
       "    <tr>\n",
       "      <th>1</th>\n",
       "      <td>0.0</td>\n",
       "      <td>0.0</td>\n",
       "      <td>0.1</td>\n",
       "      <td>0.7</td>\n",
       "      <td>0.2</td>\n",
       "      <td>0.0</td>\n",
       "      <td>0.0</td>\n",
       "    </tr>\n",
       "    <tr>\n",
       "      <th>2</th>\n",
       "      <td>0.0</td>\n",
       "      <td>0.0</td>\n",
       "      <td>0.1</td>\n",
       "      <td>0.9</td>\n",
       "      <td>0.0</td>\n",
       "      <td>0.0</td>\n",
       "      <td>0.0</td>\n",
       "    </tr>\n",
       "    <tr>\n",
       "      <th>3</th>\n",
       "      <td>0.0</td>\n",
       "      <td>0.0</td>\n",
       "      <td>0.1</td>\n",
       "      <td>0.5</td>\n",
       "      <td>0.4</td>\n",
       "      <td>0.0</td>\n",
       "      <td>0.0</td>\n",
       "    </tr>\n",
       "    <tr>\n",
       "      <th>4</th>\n",
       "      <td>0.0</td>\n",
       "      <td>0.0</td>\n",
       "      <td>0.1</td>\n",
       "      <td>0.4</td>\n",
       "      <td>0.4</td>\n",
       "      <td>0.1</td>\n",
       "      <td>0.0</td>\n",
       "    </tr>\n",
       "  </tbody>\n",
       "</table>\n",
       "</div>"
      ],
      "text/plain": [
       "     0    1    2    3    4    5    6\n",
       "0  0.0  0.0  0.6  0.4  0.0  0.0  0.0\n",
       "1  0.0  0.0  0.1  0.7  0.2  0.0  0.0\n",
       "2  0.0  0.0  0.1  0.9  0.0  0.0  0.0\n",
       "3  0.0  0.0  0.1  0.5  0.4  0.0  0.0\n",
       "4  0.0  0.0  0.1  0.4  0.4  0.1  0.0"
      ]
     },
     "execution_count": 11,
     "metadata": {},
     "output_type": "execute_result"
    }
   ],
   "source": [
    "probab = pd.DataFrame(probabilities)\n",
    "probab.head()"
   ]
  },
  {
   "cell_type": "code",
   "execution_count": 12,
   "metadata": {},
   "outputs": [
    {
     "data": {
      "text/html": [
       "<div>\n",
       "<style scoped>\n",
       "    .dataframe tbody tr th:only-of-type {\n",
       "        vertical-align: middle;\n",
       "    }\n",
       "\n",
       "    .dataframe tbody tr th {\n",
       "        vertical-align: top;\n",
       "    }\n",
       "\n",
       "    .dataframe thead th {\n",
       "        text-align: right;\n",
       "    }\n",
       "</style>\n",
       "<table border=\"1\" class=\"dataframe\">\n",
       "  <thead>\n",
       "    <tr style=\"text-align: right;\">\n",
       "      <th></th>\n",
       "      <th>fixed acidity</th>\n",
       "      <th>volatile acidity</th>\n",
       "      <th>citric acid</th>\n",
       "      <th>residual sugar</th>\n",
       "      <th>chlorides</th>\n",
       "      <th>free sulfur dioxide</th>\n",
       "      <th>total sulfur dioxide</th>\n",
       "      <th>density</th>\n",
       "      <th>pH</th>\n",
       "      <th>sulphates</th>\n",
       "      <th>alcohol</th>\n",
       "      <th>quality</th>\n",
       "      <th>predicted</th>\n",
       "    </tr>\n",
       "  </thead>\n",
       "  <tbody>\n",
       "    <tr>\n",
       "      <th>1740</th>\n",
       "      <td>6.6</td>\n",
       "      <td>0.37</td>\n",
       "      <td>0.47</td>\n",
       "      <td>6.5</td>\n",
       "      <td>0.061</td>\n",
       "      <td>23.0</td>\n",
       "      <td>150.0</td>\n",
       "      <td>0.99540</td>\n",
       "      <td>3.14</td>\n",
       "      <td>0.45</td>\n",
       "      <td>9.6</td>\n",
       "      <td>6</td>\n",
       "      <td>5</td>\n",
       "    </tr>\n",
       "    <tr>\n",
       "      <th>2658</th>\n",
       "      <td>6.5</td>\n",
       "      <td>0.15</td>\n",
       "      <td>0.44</td>\n",
       "      <td>12.6</td>\n",
       "      <td>0.052</td>\n",
       "      <td>65.0</td>\n",
       "      <td>158.0</td>\n",
       "      <td>0.99688</td>\n",
       "      <td>3.26</td>\n",
       "      <td>0.70</td>\n",
       "      <td>10.3</td>\n",
       "      <td>7</td>\n",
       "      <td>6</td>\n",
       "    </tr>\n",
       "    <tr>\n",
       "      <th>1203</th>\n",
       "      <td>5.0</td>\n",
       "      <td>0.33</td>\n",
       "      <td>0.16</td>\n",
       "      <td>1.5</td>\n",
       "      <td>0.049</td>\n",
       "      <td>10.0</td>\n",
       "      <td>97.0</td>\n",
       "      <td>0.99170</td>\n",
       "      <td>3.48</td>\n",
       "      <td>0.44</td>\n",
       "      <td>10.7</td>\n",
       "      <td>6</td>\n",
       "      <td>6</td>\n",
       "    </tr>\n",
       "    <tr>\n",
       "      <th>3985</th>\n",
       "      <td>6.8</td>\n",
       "      <td>0.11</td>\n",
       "      <td>0.27</td>\n",
       "      <td>8.6</td>\n",
       "      <td>0.044</td>\n",
       "      <td>45.0</td>\n",
       "      <td>104.0</td>\n",
       "      <td>0.99454</td>\n",
       "      <td>3.20</td>\n",
       "      <td>0.37</td>\n",
       "      <td>9.9</td>\n",
       "      <td>6</td>\n",
       "      <td>6</td>\n",
       "    </tr>\n",
       "    <tr>\n",
       "      <th>2945</th>\n",
       "      <td>4.9</td>\n",
       "      <td>0.33</td>\n",
       "      <td>0.31</td>\n",
       "      <td>1.2</td>\n",
       "      <td>0.016</td>\n",
       "      <td>39.0</td>\n",
       "      <td>150.0</td>\n",
       "      <td>0.98713</td>\n",
       "      <td>3.33</td>\n",
       "      <td>0.59</td>\n",
       "      <td>14.0</td>\n",
       "      <td>8</td>\n",
       "      <td>6</td>\n",
       "    </tr>\n",
       "  </tbody>\n",
       "</table>\n",
       "</div>"
      ],
      "text/plain": [
       "      fixed acidity  volatile acidity  citric acid  residual sugar  chlorides  \\\n",
       "1740            6.6              0.37         0.47             6.5      0.061   \n",
       "2658            6.5              0.15         0.44            12.6      0.052   \n",
       "1203            5.0              0.33         0.16             1.5      0.049   \n",
       "3985            6.8              0.11         0.27             8.6      0.044   \n",
       "2945            4.9              0.33         0.31             1.2      0.016   \n",
       "\n",
       "      free sulfur dioxide  total sulfur dioxide  density    pH  sulphates  \\\n",
       "1740                 23.0                 150.0  0.99540  3.14       0.45   \n",
       "2658                 65.0                 158.0  0.99688  3.26       0.70   \n",
       "1203                 10.0                  97.0  0.99170  3.48       0.44   \n",
       "3985                 45.0                 104.0  0.99454  3.20       0.37   \n",
       "2945                 39.0                 150.0  0.98713  3.33       0.59   \n",
       "\n",
       "      alcohol  quality  predicted  \n",
       "1740      9.6        6          5  \n",
       "2658     10.3        7          6  \n",
       "1203     10.7        6          6  \n",
       "3985      9.9        6          6  \n",
       "2945     14.0        8          6  "
      ]
     },
     "execution_count": 12,
     "metadata": {},
     "output_type": "execute_result"
    }
   ],
   "source": [
    "test.head()"
>>>>>>> parent of 5f87a01... moved into misclassification_visualization folder
   ]
  },
  {
   "cell_type": "markdown",
   "metadata": {},
   "source": [
<<<<<<< HEAD
    "### 4. Calculate how much of the test set was misclassified\n",
    "Returns the number of misclassified datapoints and the proportion of the dataframe that was misclassified"
=======
    "The indx of the test df is random because of the random shuffle split, change the index to 0 - len(test) and then join with probabilities df"
>>>>>>> parent of 5f87a01... moved into misclassification_visualization folder
   ]
  },
  {
   "cell_type": "code",
<<<<<<< HEAD
   "execution_count": 10,
   "metadata": {},
   "outputs": [
    {
     "name": "stdout",
     "output_type": "stream",
     "text": [
      "This is the number of misclassified data:  980 \n",
      "20.00816659861168 % of the data was misclassified\n"
     ]
    }
   ],
   "source": [
    "misclassification_function.missclassified(wine_m, prediction, y_test)"
=======
   "execution_count": 13,
   "metadata": {},
   "outputs": [],
   "source": [
    "test_copy = test.copy()"
   ]
  },
  {
   "cell_type": "code",
   "execution_count": 14,
   "metadata": {},
   "outputs": [],
   "source": [
    "test_copy.index = np.arange(0, len(test_copy))"
   ]
  },
  {
   "cell_type": "code",
   "execution_count": 15,
   "metadata": {},
   "outputs": [],
   "source": [
    "full = pd.concat([test_copy, probab], axis=1)"
   ]
  },
  {
   "cell_type": "code",
   "execution_count": 16,
   "metadata": {},
   "outputs": [
    {
     "data": {
      "text/html": [
       "<div>\n",
       "<style scoped>\n",
       "    .dataframe tbody tr th:only-of-type {\n",
       "        vertical-align: middle;\n",
       "    }\n",
       "\n",
       "    .dataframe tbody tr th {\n",
       "        vertical-align: top;\n",
       "    }\n",
       "\n",
       "    .dataframe thead th {\n",
       "        text-align: right;\n",
       "    }\n",
       "</style>\n",
       "<table border=\"1\" class=\"dataframe\">\n",
       "  <thead>\n",
       "    <tr style=\"text-align: right;\">\n",
       "      <th></th>\n",
       "      <th>fixed acidity</th>\n",
       "      <th>volatile acidity</th>\n",
       "      <th>citric acid</th>\n",
       "      <th>residual sugar</th>\n",
       "      <th>chlorides</th>\n",
       "      <th>free sulfur dioxide</th>\n",
       "      <th>total sulfur dioxide</th>\n",
       "      <th>density</th>\n",
       "      <th>pH</th>\n",
       "      <th>sulphates</th>\n",
       "      <th>alcohol</th>\n",
       "      <th>quality</th>\n",
       "      <th>predicted</th>\n",
       "      <th>0</th>\n",
       "      <th>1</th>\n",
       "      <th>2</th>\n",
       "      <th>3</th>\n",
       "      <th>4</th>\n",
       "      <th>5</th>\n",
       "      <th>6</th>\n",
       "    </tr>\n",
       "  </thead>\n",
       "  <tbody>\n",
       "    <tr>\n",
       "      <th>0</th>\n",
       "      <td>6.6</td>\n",
       "      <td>0.37</td>\n",
       "      <td>0.47</td>\n",
       "      <td>6.5</td>\n",
       "      <td>0.061</td>\n",
       "      <td>23.0</td>\n",
       "      <td>150.0</td>\n",
       "      <td>0.99540</td>\n",
       "      <td>3.14</td>\n",
       "      <td>0.45</td>\n",
       "      <td>9.6</td>\n",
       "      <td>6</td>\n",
       "      <td>5</td>\n",
       "      <td>0.0</td>\n",
       "      <td>0.0</td>\n",
       "      <td>0.6</td>\n",
       "      <td>0.4</td>\n",
       "      <td>0.0</td>\n",
       "      <td>0.0</td>\n",
       "      <td>0.0</td>\n",
       "    </tr>\n",
       "    <tr>\n",
       "      <th>1</th>\n",
       "      <td>6.5</td>\n",
       "      <td>0.15</td>\n",
       "      <td>0.44</td>\n",
       "      <td>12.6</td>\n",
       "      <td>0.052</td>\n",
       "      <td>65.0</td>\n",
       "      <td>158.0</td>\n",
       "      <td>0.99688</td>\n",
       "      <td>3.26</td>\n",
       "      <td>0.70</td>\n",
       "      <td>10.3</td>\n",
       "      <td>7</td>\n",
       "      <td>6</td>\n",
       "      <td>0.0</td>\n",
       "      <td>0.0</td>\n",
       "      <td>0.1</td>\n",
       "      <td>0.7</td>\n",
       "      <td>0.2</td>\n",
       "      <td>0.0</td>\n",
       "      <td>0.0</td>\n",
       "    </tr>\n",
       "    <tr>\n",
       "      <th>2</th>\n",
       "      <td>5.0</td>\n",
       "      <td>0.33</td>\n",
       "      <td>0.16</td>\n",
       "      <td>1.5</td>\n",
       "      <td>0.049</td>\n",
       "      <td>10.0</td>\n",
       "      <td>97.0</td>\n",
       "      <td>0.99170</td>\n",
       "      <td>3.48</td>\n",
       "      <td>0.44</td>\n",
       "      <td>10.7</td>\n",
       "      <td>6</td>\n",
       "      <td>6</td>\n",
       "      <td>0.0</td>\n",
       "      <td>0.0</td>\n",
       "      <td>0.1</td>\n",
       "      <td>0.9</td>\n",
       "      <td>0.0</td>\n",
       "      <td>0.0</td>\n",
       "      <td>0.0</td>\n",
       "    </tr>\n",
       "    <tr>\n",
       "      <th>3</th>\n",
       "      <td>6.8</td>\n",
       "      <td>0.11</td>\n",
       "      <td>0.27</td>\n",
       "      <td>8.6</td>\n",
       "      <td>0.044</td>\n",
       "      <td>45.0</td>\n",
       "      <td>104.0</td>\n",
       "      <td>0.99454</td>\n",
       "      <td>3.20</td>\n",
       "      <td>0.37</td>\n",
       "      <td>9.9</td>\n",
       "      <td>6</td>\n",
       "      <td>6</td>\n",
       "      <td>0.0</td>\n",
       "      <td>0.0</td>\n",
       "      <td>0.1</td>\n",
       "      <td>0.5</td>\n",
       "      <td>0.4</td>\n",
       "      <td>0.0</td>\n",
       "      <td>0.0</td>\n",
       "    </tr>\n",
       "    <tr>\n",
       "      <th>4</th>\n",
       "      <td>4.9</td>\n",
       "      <td>0.33</td>\n",
       "      <td>0.31</td>\n",
       "      <td>1.2</td>\n",
       "      <td>0.016</td>\n",
       "      <td>39.0</td>\n",
       "      <td>150.0</td>\n",
       "      <td>0.98713</td>\n",
       "      <td>3.33</td>\n",
       "      <td>0.59</td>\n",
       "      <td>14.0</td>\n",
       "      <td>8</td>\n",
       "      <td>6</td>\n",
       "      <td>0.0</td>\n",
       "      <td>0.0</td>\n",
       "      <td>0.1</td>\n",
       "      <td>0.4</td>\n",
       "      <td>0.4</td>\n",
       "      <td>0.1</td>\n",
       "      <td>0.0</td>\n",
       "    </tr>\n",
       "  </tbody>\n",
       "</table>\n",
       "</div>"
      ],
      "text/plain": [
       "   fixed acidity  volatile acidity  citric acid  residual sugar  chlorides  \\\n",
       "0            6.6              0.37         0.47             6.5      0.061   \n",
       "1            6.5              0.15         0.44            12.6      0.052   \n",
       "2            5.0              0.33         0.16             1.5      0.049   \n",
       "3            6.8              0.11         0.27             8.6      0.044   \n",
       "4            4.9              0.33         0.31             1.2      0.016   \n",
       "\n",
       "   free sulfur dioxide  total sulfur dioxide  density    pH  sulphates  \\\n",
       "0                 23.0                 150.0  0.99540  3.14       0.45   \n",
       "1                 65.0                 158.0  0.99688  3.26       0.70   \n",
       "2                 10.0                  97.0  0.99170  3.48       0.44   \n",
       "3                 45.0                 104.0  0.99454  3.20       0.37   \n",
       "4                 39.0                 150.0  0.98713  3.33       0.59   \n",
       "\n",
       "   alcohol  quality  predicted    0    1    2    3    4    5    6  \n",
       "0      9.6        6          5  0.0  0.0  0.6  0.4  0.0  0.0  0.0  \n",
       "1     10.3        7          6  0.0  0.0  0.1  0.7  0.2  0.0  0.0  \n",
       "2     10.7        6          6  0.0  0.0  0.1  0.9  0.0  0.0  0.0  \n",
       "3      9.9        6          6  0.0  0.0  0.1  0.5  0.4  0.0  0.0  \n",
       "4     14.0        8          6  0.0  0.0  0.1  0.4  0.4  0.1  0.0  "
      ]
     },
     "execution_count": 16,
     "metadata": {},
     "output_type": "execute_result"
    }
   ],
   "source": [
    "full.head()"
   ]
  },
  {
   "cell_type": "code",
   "execution_count": 17,
   "metadata": {},
   "outputs": [
    {
     "data": {
      "text/plain": [
       "(980, 20)"
      ]
     },
     "execution_count": 17,
     "metadata": {},
     "output_type": "execute_result"
    }
   ],
   "source": [
    "full.shape"
>>>>>>> parent of 5f87a01... moved into misclassification_visualization folder
   ]
  },
  {
   "cell_type": "markdown",
   "metadata": {},
   "source": [
<<<<<<< HEAD
    "### 5. Visualization\n",
    " \n",
    "Returns the confusion matrix of the model"
=======
    "- rename the columns labelled 0,1,2,3,4,5,6 to the correct quality class they represent"
>>>>>>> parent of 5f87a01... moved into misclassification_visualization folder
   ]
  },
  {
   "cell_type": "code",
<<<<<<< HEAD
   "execution_count": 11,
   "metadata": {},
   "outputs": [],
   "source": [
    "c_m = misclassification_function.confusion_mat(prediction, y_test)"
   ]
  },
  {
   "cell_type": "markdown",
   "metadata": {},
   "source": [
    "In the cofusion matrix, all the values on the diagonal are the correct predictions, this function sets these values to zero and  leaves only the wrong predictions in the matrix. \n",
    "A bar chart showing the frequency of each wrongly predicted class vs correct wine quality class."
=======
   "execution_count": 18,
   "metadata": {},
   "outputs": [],
   "source": [
    "full = full.rename(columns={0:'class_3', 1:'class_4', 2:'class_5', 2:'class_6', 4:'class_7', 5:'class_8', 6:'class_9'})"
   ]
  },
  {
   "cell_type": "code",
   "execution_count": 19,
   "metadata": {},
   "outputs": [],
   "source": [
    "import misclassification_function"
>>>>>>> parent of 5f87a01... moved into misclassification_visualization folder
   ]
  },
  {
   "cell_type": "code",
<<<<<<< HEAD
   "execution_count": 12,
   "metadata": {},
   "outputs": [
    {
     "data": {
      "image/png": "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\n",
      "text/plain": [
       "<Figure size 432x288 with 1 Axes>"
=======
   "execution_count": 20,
   "metadata": {},
   "outputs": [
    {
     "name": "stdout",
     "output_type": "stream",
     "text": [
      "Total Test Set: 980\n",
      "Number of Misclassified Datapoints: 359\n"
     ]
    }
   ],
   "source": [
    "misclassification_function.misclassified_data(full, 'quality', 'predicted')"
   ]
  },
  {
   "cell_type": "code",
   "execution_count": 21,
   "metadata": {},
   "outputs": [
    {
     "name": "stderr",
     "output_type": "stream",
     "text": [
      "C:\\ProgramData\\Anaconda3\\lib\\site-packages\\sklearn\\ensemble\\forest.py:245: FutureWarning: The default value of n_estimators will change from 10 in version 0.20 to 100 in 0.22.\n",
      "  \"10 in version 0.20 to 100 in 0.22.\", FutureWarning)\n"
     ]
    },
    {
     "data": {
      "image/png": "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\n",
      "text/plain": [
       "<Figure size 474.375x432 with 1 Axes>"
>>>>>>> parent of 5f87a01... moved into misclassification_visualization folder
      ]
     },
     "metadata": {
      "needs_background": "light"
     },
     "output_type": "display_data"
    }
   ],
   "source": [
<<<<<<< HEAD
    "misclassification_function.plot_misclassified(c_m)"
   ]
  },
  {
   "cell_type": "markdown",
   "metadata": {},
   "source": [
    "- classes 3 and 9 of the wine quality didnt have any misclassification\n",
    "- classes 5&6 had the highest number of misclassified points and interestingly the majority of misclassified points in class 5 were predicted '6' and the majority of misclassified classes in quality class 6 were predicted '5'. "
   ]
=======
    "misclassification_function.plot_misclassified(wine_m, 'quality')"
   ]
  },
  {
   "cell_type": "code",
   "execution_count": null,
   "metadata": {},
   "outputs": [],
   "source": []
>>>>>>> parent of 5f87a01... moved into misclassification_visualization folder
  }
 ],
 "metadata": {
  "kernelspec": {
   "display_name": "Python 3",
   "language": "python",
   "name": "python3"
  },
  "language_info": {
   "codemirror_mode": {
    "name": "ipython",
    "version": 3
   },
   "file_extension": ".py",
   "mimetype": "text/x-python",
   "name": "python",
   "nbconvert_exporter": "python",
   "pygments_lexer": "ipython3",
   "version": "3.7.3"
  }
 },
 "nbformat": 4,
 "nbformat_minor": 2
}
